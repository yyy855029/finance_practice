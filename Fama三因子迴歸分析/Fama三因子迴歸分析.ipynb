{
 "cells": [
  {
   "cell_type": "markdown",
   "metadata": {},
   "source": [
    "# 載入所需套件"
   ]
  },
  {
   "cell_type": "code",
   "execution_count": 1,
   "metadata": {},
   "outputs": [],
   "source": [
    "import numpy as np\n",
    "import pandas as pd\n",
    "import pandas_datareader as pdr\n",
    "from urllib.request import urlretrieve\n",
    "import statsmodels.api as sm\n",
    "import zipfile"
   ]
  },
  {
   "cell_type": "markdown",
   "metadata": {},
   "source": [
    "# 定義抓取Fama三因子資料函數"
   ]
  },
  {
   "cell_type": "code",
   "execution_count": 2,
   "metadata": {},
   "outputs": [],
   "source": [
    "def get_fama_french():\n",
    "    ff_url='https://mba.tuck.dartmouth.edu/pages/faculty/ken.french/ftp/F-F_Research_Data_Factors_CSV.zip'\n",
    "    #根據連結下載壓縮檔並重新命名\n",
    "    urlretrieve(ff_url,'fama_french.zip')\n",
    "\n",
    "    #提取壓縮檔裡面的檔案\n",
    "    zip_file=zipfile.ZipFile('fama_french.zip','r')\n",
    "    zip_file.extractall()\n",
    "    zip_file.close()\n",
    "\n",
    "    ff_factors=pd.read_csv('F-F_Research_Data_Factors.csv',skiprows=3,index_col=0)\n",
    "    #只要上方表格，以全列為空白做為區隔\n",
    "    ff_row=ff_factors.isnull().any(1).to_numpy().nonzero()[0][0]\n",
    "    ff_factors=pd.read_csv('F-F_Research_Data_Factors.csv', skiprows=3,nrows=ff_row,index_col=0)\n",
    "    ff_factors.index=pd.to_datetime(ff_factors.index,format='%Y%m')\n",
    "    #改成每月最後一日格式:Ex.2016-09-30\n",
    "    ff_factors.index=ff_factors.index+pd.offsets.MonthEnd()\n",
    "    ff_factors=ff_factors.apply(lambda x:x/ 100)\n",
    "    \n",
    "    return ff_factors"
   ]
  },
  {
   "cell_type": "markdown",
   "metadata": {},
   "source": [
    "# 定義計算月報酬率變化函數"
   ]
  },
  {
   "cell_type": "code",
   "execution_count": 3,
   "metadata": {},
   "outputs": [],
   "source": [
    "def get_return_data(price_data,period='M'):\n",
    "    price=price_data.resample(period).last()\n",
    "    return_data=pd.DataFrame(price.pct_change()[1:])\n",
    "    return_data.columns=['portfolio']\n",
    "    \n",
    "    return return_data"
   ]
  },
  {
   "cell_type": "markdown",
   "metadata": {},
   "source": [
    "# 定義跑Fama三因子迴歸函數"
   ]
  },
  {
   "cell_type": "code",
   "execution_count": 4,
   "metadata": {},
   "outputs": [],
   "source": [
    "def run_reg_model(ticker,start,end):\n",
    "    ff_data=get_fama_french()\n",
    "    ff_last=ff_data.index[-1].date()\n",
    "    \n",
    "    price_data=pdr.DataReader(ticker,'yahoo',start,end)['Adj Close'].loc[:ff_last]\n",
    "    return_data=get_return_data(price_data,'M')\n",
    "    \n",
    "    all_data=pd.merge(return_data,ff_data,how='inner',left_index= True,right_index=True)\n",
    "    all_data.rename(columns={'Mkt-RF':'mkt_excess'},inplace=True)\n",
    "    all_data['port_excess']=all_data['portfolio']-all_data['RF']\n",
    "    \n",
    "    model=sm.formula.ols(formula='port_excess ~ mkt_excess + SMB + HML',data=all_data).fit()\n",
    "    model_params=model.params\n",
    "    model_summary=model.summary()\n",
    "    \n",
    "    return model_params,model_summary"
   ]
  },
  {
   "cell_type": "markdown",
   "metadata": {},
   "source": [
    "# 實際跑Fama三因子迴歸"
   ]
  },
  {
   "cell_type": "code",
   "execution_count": 5,
   "metadata": {},
   "outputs": [
    {
     "name": "stdout",
     "output_type": "stream",
     "text": [
      "Intercept    -0.000076\n",
      "mkt_excess    1.025940\n",
      "SMB          -0.188985\n",
      "HML          -0.176255\n",
      "dtype: float64\n"
     ]
    }
   ],
   "source": [
    "ggrax_params,ggrax_summary=run_reg_model('GGRAX',start='1999-05-01',end='2020-06-28')\n",
    "print(ggrax_params)"
   ]
  },
  {
   "cell_type": "code",
   "execution_count": 6,
   "metadata": {},
   "outputs": [
    {
     "data": {
      "text/html": [
       "<table class=\"simpletable\">\n",
       "<caption>OLS Regression Results</caption>\n",
       "<tr>\n",
       "  <th>Dep. Variable:</th>       <td>port_excess</td>   <th>  R-squared:         </th> <td>   0.935</td> \n",
       "</tr>\n",
       "<tr>\n",
       "  <th>Model:</th>                   <td>OLS</td>       <th>  Adj. R-squared:    </th> <td>   0.934</td> \n",
       "</tr>\n",
       "<tr>\n",
       "  <th>Method:</th>             <td>Least Squares</td>  <th>  F-statistic:       </th> <td>   1182.</td> \n",
       "</tr>\n",
       "<tr>\n",
       "  <th>Date:</th>             <td>Mon, 06 Jul 2020</td> <th>  Prob (F-statistic):</th> <td>1.61e-146</td>\n",
       "</tr>\n",
       "<tr>\n",
       "  <th>Time:</th>                 <td>09:49:54</td>     <th>  Log-Likelihood:    </th> <td>  757.56</td> \n",
       "</tr>\n",
       "<tr>\n",
       "  <th>No. Observations:</th>      <td>   252</td>      <th>  AIC:               </th> <td>  -1507.</td> \n",
       "</tr>\n",
       "<tr>\n",
       "  <th>Df Residuals:</th>          <td>   248</td>      <th>  BIC:               </th> <td>  -1493.</td> \n",
       "</tr>\n",
       "<tr>\n",
       "  <th>Df Model:</th>              <td>     3</td>      <th>                     </th>     <td> </td>    \n",
       "</tr>\n",
       "<tr>\n",
       "  <th>Covariance Type:</th>      <td>nonrobust</td>    <th>                     </th>     <td> </td>    \n",
       "</tr>\n",
       "</table>\n",
       "<table class=\"simpletable\">\n",
       "<tr>\n",
       "       <td></td>         <th>coef</th>     <th>std err</th>      <th>t</th>      <th>P>|t|</th>  <th>[0.025</th>    <th>0.975]</th>  \n",
       "</tr>\n",
       "<tr>\n",
       "  <th>Intercept</th>  <td>-7.572e-05</td> <td>    0.001</td> <td>   -0.099</td> <td> 0.921</td> <td>   -0.002</td> <td>    0.001</td>\n",
       "</tr>\n",
       "<tr>\n",
       "  <th>mkt_excess</th> <td>    1.0259</td> <td>    0.018</td> <td>   58.446</td> <td> 0.000</td> <td>    0.991</td> <td>    1.061</td>\n",
       "</tr>\n",
       "<tr>\n",
       "  <th>SMB</th>        <td>   -0.1890</td> <td>    0.025</td> <td>   -7.697</td> <td> 0.000</td> <td>   -0.237</td> <td>   -0.141</td>\n",
       "</tr>\n",
       "<tr>\n",
       "  <th>HML</th>        <td>   -0.1763</td> <td>    0.023</td> <td>   -7.538</td> <td> 0.000</td> <td>   -0.222</td> <td>   -0.130</td>\n",
       "</tr>\n",
       "</table>\n",
       "<table class=\"simpletable\">\n",
       "<tr>\n",
       "  <th>Omnibus:</th>       <td>17.938</td> <th>  Durbin-Watson:     </th> <td>   1.542</td>\n",
       "</tr>\n",
       "<tr>\n",
       "  <th>Prob(Omnibus):</th> <td> 0.000</td> <th>  Jarque-Bera (JB):  </th> <td>  55.802</td>\n",
       "</tr>\n",
       "<tr>\n",
       "  <th>Skew:</th>          <td> 0.093</td> <th>  Prob(JB):          </th> <td>7.63e-13</td>\n",
       "</tr>\n",
       "<tr>\n",
       "  <th>Kurtosis:</th>      <td> 5.298</td> <th>  Cond. No.          </th> <td>    35.6</td>\n",
       "</tr>\n",
       "</table><br/><br/>Warnings:<br/>[1] Standard Errors assume that the covariance matrix of the errors is correctly specified."
      ],
      "text/plain": [
       "<class 'statsmodels.iolib.summary.Summary'>\n",
       "\"\"\"\n",
       "                            OLS Regression Results                            \n",
       "==============================================================================\n",
       "Dep. Variable:            port_excess   R-squared:                       0.935\n",
       "Model:                            OLS   Adj. R-squared:                  0.934\n",
       "Method:                 Least Squares   F-statistic:                     1182.\n",
       "Date:                Mon, 06 Jul 2020   Prob (F-statistic):          1.61e-146\n",
       "Time:                        09:49:54   Log-Likelihood:                 757.56\n",
       "No. Observations:                 252   AIC:                            -1507.\n",
       "Df Residuals:                     248   BIC:                            -1493.\n",
       "Df Model:                           3                                         \n",
       "Covariance Type:            nonrobust                                         \n",
       "==============================================================================\n",
       "                 coef    std err          t      P>|t|      [0.025      0.975]\n",
       "------------------------------------------------------------------------------\n",
       "Intercept  -7.572e-05      0.001     -0.099      0.921      -0.002       0.001\n",
       "mkt_excess     1.0259      0.018     58.446      0.000       0.991       1.061\n",
       "SMB           -0.1890      0.025     -7.697      0.000      -0.237      -0.141\n",
       "HML           -0.1763      0.023     -7.538      0.000      -0.222      -0.130\n",
       "==============================================================================\n",
       "Omnibus:                       17.938   Durbin-Watson:                   1.542\n",
       "Prob(Omnibus):                  0.000   Jarque-Bera (JB):               55.802\n",
       "Skew:                           0.093   Prob(JB):                     7.63e-13\n",
       "Kurtosis:                       5.298   Cond. No.                         35.6\n",
       "==============================================================================\n",
       "\n",
       "Warnings:\n",
       "[1] Standard Errors assume that the covariance matrix of the errors is correctly specified.\n",
       "\"\"\""
      ]
     },
     "execution_count": 6,
     "metadata": {},
     "output_type": "execute_result"
    }
   ],
   "source": [
    "ggrax_summary"
   ]
  },
  {
   "cell_type": "code",
   "execution_count": 7,
   "metadata": {},
   "outputs": [
    {
     "name": "stdout",
     "output_type": "stream",
     "text": [
      "Intercept     0.002792\n",
      "mkt_excess    0.805479\n",
      "SMB           0.031234\n",
      "HML          -0.074881\n",
      "dtype: float64\n"
     ]
    }
   ],
   "source": [
    "fcntx_params,fcntx_summary=run_reg_model('FCNTX',start='1999-05-01',end='2020-06-28')\n",
    "print(fcntx_params)"
   ]
  },
  {
   "cell_type": "code",
   "execution_count": 8,
   "metadata": {},
   "outputs": [
    {
     "data": {
      "text/html": [
       "<table class=\"simpletable\">\n",
       "<caption>OLS Regression Results</caption>\n",
       "<tr>\n",
       "  <th>Dep. Variable:</th>       <td>port_excess</td>   <th>  R-squared:         </th> <td>   0.840</td>\n",
       "</tr>\n",
       "<tr>\n",
       "  <th>Model:</th>                   <td>OLS</td>       <th>  Adj. R-squared:    </th> <td>   0.838</td>\n",
       "</tr>\n",
       "<tr>\n",
       "  <th>Method:</th>             <td>Least Squares</td>  <th>  F-statistic:       </th> <td>   434.7</td>\n",
       "</tr>\n",
       "<tr>\n",
       "  <th>Date:</th>             <td>Mon, 06 Jul 2020</td> <th>  Prob (F-statistic):</th> <td>1.21e-98</td>\n",
       "</tr>\n",
       "<tr>\n",
       "  <th>Time:</th>                 <td>09:49:56</td>     <th>  Log-Likelihood:    </th> <td>  686.56</td>\n",
       "</tr>\n",
       "<tr>\n",
       "  <th>No. Observations:</th>      <td>   253</td>      <th>  AIC:               </th> <td>  -1365.</td>\n",
       "</tr>\n",
       "<tr>\n",
       "  <th>Df Residuals:</th>          <td>   249</td>      <th>  BIC:               </th> <td>  -1351.</td>\n",
       "</tr>\n",
       "<tr>\n",
       "  <th>Df Model:</th>              <td>     3</td>      <th>                     </th>     <td> </td>   \n",
       "</tr>\n",
       "<tr>\n",
       "  <th>Covariance Type:</th>      <td>nonrobust</td>    <th>                     </th>     <td> </td>   \n",
       "</tr>\n",
       "</table>\n",
       "<table class=\"simpletable\">\n",
       "<tr>\n",
       "       <td></td>         <th>coef</th>     <th>std err</th>      <th>t</th>      <th>P>|t|</th>  <th>[0.025</th>    <th>0.975]</th>  \n",
       "</tr>\n",
       "<tr>\n",
       "  <th>Intercept</th>  <td>    0.0028</td> <td>    0.001</td> <td>    2.726</td> <td> 0.007</td> <td>    0.001</td> <td>    0.005</td>\n",
       "</tr>\n",
       "<tr>\n",
       "  <th>mkt_excess</th> <td>    0.8055</td> <td>    0.023</td> <td>   34.316</td> <td> 0.000</td> <td>    0.759</td> <td>    0.852</td>\n",
       "</tr>\n",
       "<tr>\n",
       "  <th>SMB</th>        <td>    0.0312</td> <td>    0.033</td> <td>    0.953</td> <td> 0.341</td> <td>   -0.033</td> <td>    0.096</td>\n",
       "</tr>\n",
       "<tr>\n",
       "  <th>HML</th>        <td>   -0.0749</td> <td>    0.031</td> <td>   -2.395</td> <td> 0.017</td> <td>   -0.136</td> <td>   -0.013</td>\n",
       "</tr>\n",
       "</table>\n",
       "<table class=\"simpletable\">\n",
       "<tr>\n",
       "  <th>Omnibus:</th>       <td>33.655</td> <th>  Durbin-Watson:     </th> <td>   2.185</td>\n",
       "</tr>\n",
       "<tr>\n",
       "  <th>Prob(Omnibus):</th> <td> 0.000</td> <th>  Jarque-Bera (JB):  </th> <td> 131.612</td>\n",
       "</tr>\n",
       "<tr>\n",
       "  <th>Skew:</th>          <td>-0.432</td> <th>  Prob(JB):          </th> <td>2.63e-29</td>\n",
       "</tr>\n",
       "<tr>\n",
       "  <th>Kurtosis:</th>      <td> 6.426</td> <th>  Cond. No.          </th> <td>    35.5</td>\n",
       "</tr>\n",
       "</table><br/><br/>Warnings:<br/>[1] Standard Errors assume that the covariance matrix of the errors is correctly specified."
      ],
      "text/plain": [
       "<class 'statsmodels.iolib.summary.Summary'>\n",
       "\"\"\"\n",
       "                            OLS Regression Results                            \n",
       "==============================================================================\n",
       "Dep. Variable:            port_excess   R-squared:                       0.840\n",
       "Model:                            OLS   Adj. R-squared:                  0.838\n",
       "Method:                 Least Squares   F-statistic:                     434.7\n",
       "Date:                Mon, 06 Jul 2020   Prob (F-statistic):           1.21e-98\n",
       "Time:                        09:49:56   Log-Likelihood:                 686.56\n",
       "No. Observations:                 253   AIC:                            -1365.\n",
       "Df Residuals:                     249   BIC:                            -1351.\n",
       "Df Model:                           3                                         \n",
       "Covariance Type:            nonrobust                                         \n",
       "==============================================================================\n",
       "                 coef    std err          t      P>|t|      [0.025      0.975]\n",
       "------------------------------------------------------------------------------\n",
       "Intercept      0.0028      0.001      2.726      0.007       0.001       0.005\n",
       "mkt_excess     0.8055      0.023     34.316      0.000       0.759       0.852\n",
       "SMB            0.0312      0.033      0.953      0.341      -0.033       0.096\n",
       "HML           -0.0749      0.031     -2.395      0.017      -0.136      -0.013\n",
       "==============================================================================\n",
       "Omnibus:                       33.655   Durbin-Watson:                   2.185\n",
       "Prob(Omnibus):                  0.000   Jarque-Bera (JB):              131.612\n",
       "Skew:                          -0.432   Prob(JB):                     2.63e-29\n",
       "Kurtosis:                       6.426   Cond. No.                         35.5\n",
       "==============================================================================\n",
       "\n",
       "Warnings:\n",
       "[1] Standard Errors assume that the covariance matrix of the errors is correctly specified.\n",
       "\"\"\""
      ]
     },
     "execution_count": 8,
     "metadata": {},
     "output_type": "execute_result"
    }
   ],
   "source": [
    "fcntx_summary"
   ]
  },
  {
   "cell_type": "code",
   "execution_count": null,
   "metadata": {},
   "outputs": [],
   "source": []
  }
 ],
 "metadata": {
  "kernelspec": {
   "display_name": "Python 3",
   "language": "python",
   "name": "python3"
  },
  "language_info": {
   "codemirror_mode": {
    "name": "ipython",
    "version": 3
   },
   "file_extension": ".py",
   "mimetype": "text/x-python",
   "name": "python",
   "nbconvert_exporter": "python",
   "pygments_lexer": "ipython3",
   "version": "3.7.3"
  }
 },
 "nbformat": 4,
 "nbformat_minor": 2
}
