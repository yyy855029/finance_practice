{
 "cells": [
  {
   "cell_type": "markdown",
   "metadata": {},
   "source": [
    "# 載入所需套件"
   ]
  },
  {
   "cell_type": "code",
   "execution_count": 1,
   "metadata": {},
   "outputs": [],
   "source": [
    "import numpy as np\n",
    "import matplotlib.pyplot as plt\n",
    "\n",
    "%matplotlib inline"
   ]
  },
  {
   "cell_type": "markdown",
   "metadata": {},
   "source": [
    "# 定義函數"
   ]
  },
  {
   "cell_type": "markdown",
   "metadata": {},
   "source": [
    "# 單因子"
   ]
  },
  {
   "cell_type": "code",
   "execution_count": 2,
   "metadata": {},
   "outputs": [],
   "source": [
    "def stock_risk(beta,market_vol,idio_vol):\n",
    "    common_risk=(beta**2)*(market_vol**2)\n",
    "    specific_risk=idio_vol**2\n",
    "    total_risk=common_risk+specific_risk\n",
    "    common_risk_ratio=common_risk/total_risk\n",
    "    \n",
    "    return total_risk,common_risk_ratio"
   ]
  },
  {
   "cell_type": "markdown",
   "metadata": {},
   "source": [
    "# 二因子"
   ]
  },
  {
   "cell_type": "code",
   "execution_count": 3,
   "metadata": {},
   "outputs": [],
   "source": [
    "def two_stocks_one_factor(w1,w2,b1,b2,market_vol,idio_vol_1,idio_vol_2):\n",
    "    common_risk=(market_vol**2)*((w1**2)*(b1**2)+(w2**2)*(b2**2)+2*w1*w2*b1*b2)\n",
    "    specific_risk=(w1**2)*(idio_vol_1**2)+(w2**2)*(idio_vol_2**2)\n",
    "    total_risk=common_risk+specific_risk\n",
    "    common_risk_ratio=common_risk/total_risk\n",
    "    \n",
    "    return total_risk,common_risk_ratio"
   ]
  },
  {
   "cell_type": "markdown",
   "metadata": {},
   "source": [
    "# 多因子"
   ]
  },
  {
   "cell_type": "code",
   "execution_count": 4,
   "metadata": {},
   "outputs": [],
   "source": [
    "def multi_stocks_one_factor(w_vector,beta_vector,market_vol,idio_vol_matrix):\n",
    "    common_risk=(w_vector.dot(beta_vector))*market_vol*(beta_vector.dot(w_vector))\n",
    "    specific_risk=w_vector.dot(idio_vol_matrix).dot(w_vector)\n",
    "    total_risk=common_risk+specific_risk\n",
    "    common_risk_ratio=common_risk/total_risk\n",
    "    \n",
    "    return total_risk,common_risk_ratio"
   ]
  },
  {
   "cell_type": "markdown",
   "metadata": {},
   "source": [
    "# 多因子(固定投資比例和因子總風險)"
   ]
  },
  {
   "cell_type": "code",
   "execution_count": 5,
   "metadata": {},
   "outputs": [],
   "source": [
    "def portfolio_risk_decomposition(budget=0.2,corr=1,algo_count=2,algo_total_risk=0.04):\n",
    "    N=algo_count\n",
    "    \n",
    "    algo_common_risk=budget*(algo_total_risk**2)\n",
    "    algo_idio_risk=algo_total_risk**2-algo_common_risk\n",
    "\n",
    "    w=1/N\n",
    "    \n",
    "    cov=corr*algo_common_risk\n",
    "    common_risk=N*(w**2)*algo_common_risk+(N**2-N)*(w**2)*cov\n",
    "    idio_risk=N*(w**2)*algo_idio_risk\n",
    "    total_risk=common_risk+idio_risk\n",
    "    common_risk_ratio=common_risk/total_risk\n",
    "    \n",
    "    return total_risk,common_risk_ratio"
   ]
  },
  {
   "cell_type": "markdown",
   "metadata": {},
   "source": [
    "# 呼叫函數"
   ]
  },
  {
   "cell_type": "markdown",
   "metadata": {},
   "source": [
    "# 單因子"
   ]
  },
  {
   "cell_type": "code",
   "execution_count": 6,
   "metadata": {},
   "outputs": [
    {
     "name": "stdout",
     "output_type": "stream",
     "text": [
      "Stock 1 risk (annualized standard deviation): 0.2059\n",
      "Stock 1 percent of total risk due to common risk: 0.7642\n",
      "Stock 2 risk (annualized standard deviation): 0.1792\n",
      "Stock 2 percent of total risk due to common risk: 0.8475\n"
     ]
    }
   ],
   "source": [
    "#Betas\n",
    "b1=1.2\n",
    "b2=1.1\n",
    "#Market volatility\n",
    "market_vol=0.15\n",
    "#Idiosyncratic volatilities\n",
    "idio_vol_1=0.10 \n",
    "idio_vol_2=0.07\n",
    "\n",
    "total_1,ratio_1=stock_risk(b1,market_vol,idio_vol_1)\n",
    "total_2,ratio_2=stock_risk(b2,market_vol,idio_vol_2)\n",
    "\n",
    "print('Stock 1 risk (annualized standard deviation): {:6.4f}'.format(np.sqrt(total_1)))\n",
    "print('Stock 1 percent of total risk due to common risk: {:6.4f}'.format(ratio_1))\n",
    "print('Stock 2 risk (annualized standard deviation): {:6.4f}'.format(np.sqrt(total_2)))\n",
    "print('Stock 2 percent of total risk due to common risk: {:6.4f}'.format(ratio_2))"
   ]
  },
  {
   "cell_type": "markdown",
   "metadata": {},
   "source": [
    "# 二因子"
   ]
  },
  {
   "cell_type": "code",
   "execution_count": 7,
   "metadata": {},
   "outputs": [
    {
     "name": "stdout",
     "output_type": "stream",
     "text": [
      "Portfolio risk (annualized standard deviation): 0.1830\n",
      "Percent of total risk due to common risk: 0.8887\n"
     ]
    }
   ],
   "source": [
    "#Weights\n",
    "w1=0.5\n",
    "w2=0.5\n",
    "#Betas\n",
    "b1=1.2\n",
    "b2=1.1\n",
    "#Market volatility\n",
    "market_vol=0.15\n",
    "#Idiosyncratic volatilities\n",
    "idio_vol_1=0.10 \n",
    "idio_vol_2=0.07\n",
    "\n",
    "total,ratio=two_stocks_one_factor(w1,w2,b1,b2,market_vol,idio_vol_1,idio_vol_2)\n",
    "\n",
    "print('Portfolio risk (annualized standard deviation): {:6.4f}'.format(np.sqrt(total)))\n",
    "print('Percent of total risk due to common risk: {:6.4f}'.format(ratio))"
   ]
  },
  {
   "cell_type": "code",
   "execution_count": 8,
   "metadata": {},
   "outputs": [
    {
     "name": "stdout",
     "output_type": "stream",
     "text": [
      "Portfolio risk (annualized standard deviation): 0.0629\n",
      "Percent of total risk due to common risk: 0.0000\n"
     ]
    }
   ],
   "source": [
    "#Zero beta portfolio\n",
    "w1=0.5\n",
    "w2=-w1*b1/b2\n",
    "#Betas\n",
    "b1=1.2\n",
    "b2=1.1\n",
    "#Market volatility\n",
    "market_vol=0.15\n",
    "#Idiosyncratic volatilities\n",
    "idio_vol_1=0.10 \n",
    "idio_vol_2=0.07\n",
    "\n",
    "total,ratio=two_stocks_one_factor(w1,w2,b1,b2,market_vol,idio_vol_1,idio_vol_2)\n",
    "\n",
    "print('Portfolio risk (annualized standard deviation): {:6.4f}'.format(np.sqrt(total)))\n",
    "print('Percent of total risk due to common risk: {:6.4f}'.format(ratio))"
   ]
  },
  {
   "cell_type": "markdown",
   "metadata": {},
   "source": [
    "# 多因子"
   ]
  },
  {
   "cell_type": "code",
   "execution_count": 9,
   "metadata": {},
   "outputs": [
    {
     "name": "stdout",
     "output_type": "stream",
     "text": [
      "Portfolio risk (annualized standard deviation): 0.1830\n",
      "Percent of total risk due to common risk: 0.8887\n"
     ]
    }
   ],
   "source": [
    "#Weights\n",
    "w_vector=np.array([0.5,0.5])\n",
    "#Betas\n",
    "beta_vector=np.array([1.2,1.1])\n",
    "#Market volatility\n",
    "market_vol=0.15**2\n",
    "#Idiosyncratic volatilities\n",
    "idio_vol_matrix=np.diagflat([0.10**2,0.07**2])\n",
    "\n",
    "total,ratio=multi_stocks_one_factor(w_vector,beta_vector,market_vol,idio_vol_matrix)\n",
    "\n",
    "print('Portfolio risk (annualized standard deviation): {:6.4f}'.format(np.sqrt(total)))\n",
    "print('Percent of total risk due to common risk: {:6.4f}'.format(ratio))"
   ]
  },
  {
   "cell_type": "markdown",
   "metadata": {},
   "source": [
    "# 多因子(固定投資比例和因子總風險)"
   ]
  },
  {
   "cell_type": "code",
   "execution_count": 10,
   "metadata": {},
   "outputs": [
    {
     "name": "stdout",
     "output_type": "stream",
     "text": [
      "Portfolio total risk: 0.0196\n",
      "Portfolio percent of common risk: 0.8333\n"
     ]
    }
   ],
   "source": [
    "total,ratio=portfolio_risk_decomposition(budget=0.2,algo_count=20,corr=1,algo_total_risk=0.04)\n",
    "\n",
    "print('Portfolio total risk: {:6.4f}'.format(np.sqrt(total)))\n",
    "print('Portfolio percent of common risk: {:6.4f}'.format(ratio))"
   ]
  },
  {
   "cell_type": "code",
   "execution_count": 11,
   "metadata": {},
   "outputs": [
    {
     "data": {
      "image/png": "[encoded data removed]",
      "text/plain": [
       "<Figure size 720x360 with 1 Axes>"
      ]
     },
     "metadata": {
      "needs_background": "light"
     },
     "output_type": "display_data"
    }
   ],
   "source": [
    "algos=np.linspace(1,20)\n",
    "\n",
    "fig,ax=plt.subplots(1,figsize=(10,5))\n",
    "ax.plot(algos,portfolio_risk_decomposition(budget=0.2,corr=1.0,algo_count=algos)[1],label='20% Single Algo Common Risk Budget')\n",
    "ax.plot(algos,portfolio_risk_decomposition(budget=0.4,corr=1.0,algo_count=algos)[1],label='40% Single Algo Common Risk Budget')\n",
    "ax.plot(algos,portfolio_risk_decomposition(budget=0.6,corr=1.0,algo_count=algos)[1],label='60% Single Algo Common Risk Budget')\n",
    "ax.plot(algos,portfolio_risk_decomposition(budget=0.8,corr=1.0,algo_count=algos)[1],label='80% Single Algo Common Risk Budget')\n",
    "ax.set_ylim([0,1])\n",
    "ax.set_xlim([0,21])\n",
    "ax.set_title('Percent of Portfolio Risk due to Common Risk',fontsize=15)\n",
    "ax.set_xlabel('Number of Algos in Portfolio',fontsize=10)\n",
    "ax.set_ylabel('Percent of Portfolio of Algos Risk due to Common Risk',fontsize=10)\n",
    "ax.set_xticks(np.arange(0,25,5))\n",
    "ax.legend(loc='lower right',fontsize=12)\n",
    "ax.grid()"
   ]
  },
  {
   "cell_type": "code",
   "execution_count": null,
   "metadata": {},
   "outputs": [],
   "source": []
  }
 ],
 "metadata": {
  "kernelspec": {
   "display_name": "Python 3",
   "language": "python",
   "name": "python3"
  },
  "language_info": {
   "codemirror_mode": {
    "name": "ipython",
    "version": 3
   },
   "file_extension": ".py",
   "mimetype": "text/x-python",
   "name": "python",
   "nbconvert_exporter": "python",
   "pygments_lexer": "ipython3",
   "version": "3.7.3"
  }
 },
 "nbformat": 4,
 "nbformat_minor": 2
}
