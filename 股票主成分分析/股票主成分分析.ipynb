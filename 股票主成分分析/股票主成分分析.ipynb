{
 "cells": [
  {
   "cell_type": "markdown",
   "metadata": {},
   "source": [
    "# 載入所需套件"
   ]
  },
  {
   "cell_type": "code",
   "execution_count": 1,
   "metadata": {},
   "outputs": [],
   "source": [
    "import numpy as np\n",
    "import pandas as pd\n",
    "import pandas_datareader as pdr\n",
    "import matplotlib.pyplot as plt\n",
    "import matplotlib.style as style\n",
    "from sklearn.decomposition import PCA\n",
    "from datetime import datetime\n",
    "from tqdm import tqdm\n",
    "\n",
    "%matplotlib inline\n",
    "\n",
    "style.use('seaborn')"
   ]
  },
  {
   "cell_type": "markdown",
   "metadata": {},
   "source": [
    "# 抓取股價資料"
   ]
  },
  {
   "cell_type": "code",
   "execution_count": 2,
   "metadata": {},
   "outputs": [
    {
     "name": "stderr",
     "output_type": "stream",
     "text": [
      "100%|██████████████████████████████████████████████████████████████████████████████████| 10/10 [00:09<00:00,  1.09it/s]\n"
     ]
    },
    {
     "data": {
      "text/html": [
       "<div>\n",
       "<style scoped>\n",
       "    .dataframe tbody tr th:only-of-type {\n",
       "        vertical-align: middle;\n",
       "    }\n",
       "\n",
       "    .dataframe tbody tr th {\n",
       "        vertical-align: top;\n",
       "    }\n",
       "\n",
       "    .dataframe thead th {\n",
       "        text-align: right;\n",
       "    }\n",
       "</style>\n",
       "<table border=\"1\" class=\"dataframe\">\n",
       "  <thead>\n",
       "    <tr style=\"text-align: right;\">\n",
       "      <th></th>\n",
       "      <th>IBM</th>\n",
       "      <th>MSFT</th>\n",
       "      <th>FB</th>\n",
       "      <th>AMZN</th>\n",
       "      <th>AAPL</th>\n",
       "      <th>NFLX</th>\n",
       "      <th>INTC</th>\n",
       "      <th>GOOG</th>\n",
       "      <th>NVDA</th>\n",
       "      <th>TWTR</th>\n",
       "    </tr>\n",
       "    <tr>\n",
       "      <th>Date</th>\n",
       "      <th></th>\n",
       "      <th></th>\n",
       "      <th></th>\n",
       "      <th></th>\n",
       "      <th></th>\n",
       "      <th></th>\n",
       "      <th></th>\n",
       "      <th></th>\n",
       "      <th></th>\n",
       "      <th></th>\n",
       "    </tr>\n",
       "  </thead>\n",
       "  <tbody>\n",
       "    <tr>\n",
       "      <th>2017-01-04</th>\n",
       "      <td>0.012381</td>\n",
       "      <td>-0.004474</td>\n",
       "      <td>0.015660</td>\n",
       "      <td>0.004657</td>\n",
       "      <td>-0.001119</td>\n",
       "      <td>0.015060</td>\n",
       "      <td>-0.005191</td>\n",
       "      <td>0.000967</td>\n",
       "      <td>0.023331</td>\n",
       "      <td>0.025547</td>\n",
       "    </tr>\n",
       "    <tr>\n",
       "      <th>2017-01-05</th>\n",
       "      <td>-0.003308</td>\n",
       "      <td>0.000000</td>\n",
       "      <td>0.016682</td>\n",
       "      <td>0.030732</td>\n",
       "      <td>0.005085</td>\n",
       "      <td>0.018546</td>\n",
       "      <td>-0.001648</td>\n",
       "      <td>0.009048</td>\n",
       "      <td>-0.025385</td>\n",
       "      <td>0.013642</td>\n",
       "    </tr>\n",
       "    <tr>\n",
       "      <th>2017-01-06</th>\n",
       "      <td>0.004920</td>\n",
       "      <td>0.008668</td>\n",
       "      <td>0.022707</td>\n",
       "      <td>0.019912</td>\n",
       "      <td>0.011148</td>\n",
       "      <td>-0.005614</td>\n",
       "      <td>0.003576</td>\n",
       "      <td>0.015277</td>\n",
       "      <td>0.013367</td>\n",
       "      <td>0.004681</td>\n",
       "    </tr>\n",
       "    <tr>\n",
       "      <th>2017-01-09</th>\n",
       "      <td>-0.011090</td>\n",
       "      <td>-0.003183</td>\n",
       "      <td>0.012074</td>\n",
       "      <td>0.001168</td>\n",
       "      <td>0.009159</td>\n",
       "      <td>-0.000916</td>\n",
       "      <td>0.003564</td>\n",
       "      <td>0.000620</td>\n",
       "      <td>0.040543</td>\n",
       "      <td>0.019220</td>\n",
       "    </tr>\n",
       "    <tr>\n",
       "      <th>2017-01-10</th>\n",
       "      <td>-0.012705</td>\n",
       "      <td>-0.000319</td>\n",
       "      <td>-0.004404</td>\n",
       "      <td>-0.001280</td>\n",
       "      <td>0.001009</td>\n",
       "      <td>-0.008095</td>\n",
       "      <td>-0.001912</td>\n",
       "      <td>-0.002306</td>\n",
       "      <td>-0.007550</td>\n",
       "      <td>-0.007429</td>\n",
       "    </tr>\n",
       "  </tbody>\n",
       "</table>\n",
       "</div>"
      ],
      "text/plain": [
       "                 IBM      MSFT        FB      AMZN      AAPL      NFLX  \\\n",
       "Date                                                                     \n",
       "2017-01-04  0.012381 -0.004474  0.015660  0.004657 -0.001119  0.015060   \n",
       "2017-01-05 -0.003308  0.000000  0.016682  0.030732  0.005085  0.018546   \n",
       "2017-01-06  0.004920  0.008668  0.022707  0.019912  0.011148 -0.005614   \n",
       "2017-01-09 -0.011090 -0.003183  0.012074  0.001168  0.009159 -0.000916   \n",
       "2017-01-10 -0.012705 -0.000319 -0.004404 -0.001280  0.001009 -0.008095   \n",
       "\n",
       "                INTC      GOOG      NVDA      TWTR  \n",
       "Date                                                \n",
       "2017-01-04 -0.005191  0.000967  0.023331  0.025547  \n",
       "2017-01-05 -0.001648  0.009048 -0.025385  0.013642  \n",
       "2017-01-06  0.003576  0.015277  0.013367  0.004681  \n",
       "2017-01-09  0.003564  0.000620  0.040543  0.019220  \n",
       "2017-01-10 -0.001912 -0.002306 -0.007550 -0.007429  "
      ]
     },
     "execution_count": 2,
     "metadata": {},
     "output_type": "execute_result"
    }
   ],
   "source": [
    "start=datetime(2017,1,1)\n",
    "end=datetime.now().date()\n",
    "tickers=['IBM','MSFT','FB','AMZN','AAPL','NFLX','INTC','GOOG','NVDA','TWTR']\n",
    "adj_close={}\n",
    "\n",
    "for ticker in tqdm(tickers):\n",
    "    adj_close[ticker]=pdr.DataReader(ticker,'yahoo',start,end)['Adj Close']\n",
    "\n",
    "adj_close_df=pd.DataFrame(adj_close)\n",
    "return_df=adj_close_df.pct_change()[1:]\n",
    "return_df.head()"
   ]
  },
  {
   "cell_type": "code",
   "execution_count": 3,
   "metadata": {},
   "outputs": [
    {
     "name": "stdout",
     "output_type": "stream",
     "text": [
      "The number of timestamps is 941\n",
      "The number of stocks is 10\n"
     ]
    }
   ],
   "source": [
    "X=return_df.values\n",
    "[n,m]=X.shape\n",
    "print('The number of timestamps is {}'.format(n))\n",
    "print('The number of stocks is {}'.format(m))"
   ]
  },
  {
   "cell_type": "markdown",
   "metadata": {},
   "source": [
    "# 建立PCA降維模型"
   ]
  },
  {
   "cell_type": "code",
   "execution_count": 4,
   "metadata": {},
   "outputs": [
    {
     "name": "stdout",
     "output_type": "stream",
     "text": [
      "92.15% of the variance is explained by the first 6 PCs\n"
     ]
    }
   ],
   "source": [
    "num_pc=6\n",
    "pca=PCA(n_components=num_pc)\n",
    "pca.fit(X)\n",
    "\n",
    "percentage=pca.explained_variance_ratio_\n",
    "percentage_cum=np.cumsum(percentage)\n",
    "pca_components=pca.components_\n",
    "\n",
    "print('{:5.2f}% of the variance is explained by the first {} PCs'.format(percentage_cum[-1]*100,num_pc))"
   ]
  },
  {
   "cell_type": "markdown",
   "metadata": {},
   "source": [
    "# 繪製主成分重要性"
   ]
  },
  {
   "cell_type": "code",
   "execution_count": 5,
   "metadata": {},
   "outputs": [
    {
     "data": {
      "text/plain": [
       "(0.0, 100.0)"
      ]
     },
     "execution_count": 5,
     "metadata": {},
     "output_type": "execute_result"
    },
    {
     "data": {
      "image/png": "[encoded data removed]",
      "text/plain": [
       "<Figure size 1152x360 with 2 Axes>"
      ]
     },
     "metadata": {
      "needs_background": "light"
     },
     "output_type": "display_data"
    }
   ],
   "source": [
    "x=np.arange(1,len(percentage)+1,1)\n",
    "\n",
    "fig,axes=plt.subplots(1,2,figsize=(16,5))\n",
    "axes[0].bar(x,percentage*100,align='center')\n",
    "axes[0].set_title('Contribution of principal components',fontsize=12)\n",
    "axes[0].set_xlabel('principal components',fontsize=10)\n",
    "axes[0].set_ylabel('percentage',fontsize=10)\n",
    "axes[0].set_xticks(x) \n",
    "axes[0].set_xlim([0,num_pc+1])\n",
    "\n",
    "axes[1].plot(x,percentage_cum*100,'ro-')\n",
    "axes[1].set_title('Cumulative contribution of principal components',fontsize=12)\n",
    "axes[1].set_xlabel('principal components',fontsize=10)\n",
    "axes[1].set_ylabel('percentage',fontsize=10)\n",
    "axes[1].set_xticks(x) \n",
    "axes[1].set_xlim([0,num_pc+1])\n",
    "axes[1].set_ylim([0,100])"
   ]
  },
  {
   "cell_type": "markdown",
   "metadata": {},
   "source": [
    "# 主成分報酬率"
   ]
  },
  {
   "cell_type": "code",
   "execution_count": 6,
   "metadata": {},
   "outputs": [
    {
     "data": {
      "text/html": [
       "<div>\n",
       "<style scoped>\n",
       "    .dataframe tbody tr th:only-of-type {\n",
       "        vertical-align: middle;\n",
       "    }\n",
       "\n",
       "    .dataframe tbody tr th {\n",
       "        vertical-align: top;\n",
       "    }\n",
       "\n",
       "    .dataframe thead th {\n",
       "        text-align: right;\n",
       "    }\n",
       "</style>\n",
       "<table border=\"1\" class=\"dataframe\">\n",
       "  <thead>\n",
       "    <tr style=\"text-align: right;\">\n",
       "      <th></th>\n",
       "      <th>factor 1</th>\n",
       "      <th>factor 2</th>\n",
       "      <th>factor 3</th>\n",
       "      <th>factor 4</th>\n",
       "      <th>factor 5</th>\n",
       "      <th>factor 6</th>\n",
       "    </tr>\n",
       "    <tr>\n",
       "      <th>Date</th>\n",
       "      <th></th>\n",
       "      <th></th>\n",
       "      <th></th>\n",
       "      <th></th>\n",
       "      <th></th>\n",
       "      <th></th>\n",
       "    </tr>\n",
       "  </thead>\n",
       "  <tbody>\n",
       "    <tr>\n",
       "      <th>2017-01-04</th>\n",
       "      <td>-0.031082</td>\n",
       "      <td>-0.012542</td>\n",
       "      <td>-0.002918</td>\n",
       "      <td>-0.018294</td>\n",
       "      <td>-0.005199</td>\n",
       "      <td>0.002509</td>\n",
       "    </tr>\n",
       "    <tr>\n",
       "      <th>2017-01-05</th>\n",
       "      <td>-0.015963</td>\n",
       "      <td>-0.010448</td>\n",
       "      <td>-0.037778</td>\n",
       "      <td>0.017562</td>\n",
       "      <td>-0.009533</td>\n",
       "      <td>-0.000562</td>\n",
       "    </tr>\n",
       "    <tr>\n",
       "      <th>2017-01-06</th>\n",
       "      <td>-0.030152</td>\n",
       "      <td>0.005656</td>\n",
       "      <td>0.003879</td>\n",
       "      <td>0.007432</td>\n",
       "      <td>-0.022420</td>\n",
       "      <td>-0.001366</td>\n",
       "    </tr>\n",
       "    <tr>\n",
       "      <th>2017-01-09</th>\n",
       "      <td>-0.030634</td>\n",
       "      <td>-0.005023</td>\n",
       "      <td>0.017026</td>\n",
       "      <td>-0.028803</td>\n",
       "      <td>-0.010106</td>\n",
       "      <td>-0.010545</td>\n",
       "    </tr>\n",
       "    <tr>\n",
       "      <th>2017-01-10</th>\n",
       "      <td>0.014102</td>\n",
       "      <td>0.001521</td>\n",
       "      <td>0.000454</td>\n",
       "      <td>0.001683</td>\n",
       "      <td>-0.002974</td>\n",
       "      <td>-0.003929</td>\n",
       "    </tr>\n",
       "  </tbody>\n",
       "</table>\n",
       "</div>"
      ],
      "text/plain": [
       "            factor 1  factor 2  factor 3  factor 4  factor 5  factor 6\n",
       "Date                                                                  \n",
       "2017-01-04 -0.031082 -0.012542 -0.002918 -0.018294 -0.005199  0.002509\n",
       "2017-01-05 -0.015963 -0.010448 -0.037778  0.017562 -0.009533 -0.000562\n",
       "2017-01-06 -0.030152  0.005656  0.003879  0.007432 -0.022420 -0.001366\n",
       "2017-01-09 -0.030634 -0.005023  0.017026 -0.028803 -0.010106 -0.010545\n",
       "2017-01-10  0.014102  0.001521  0.000454  0.001683 -0.002974 -0.003929"
      ]
     },
     "execution_count": 6,
     "metadata": {},
     "output_type": "execute_result"
    }
   ],
   "source": [
    "factor_return=X.dot(pca_components.T)\n",
    "factor_return=pd.DataFrame(columns=['factor {}'.format(i+1) for i in range(num_pc)],index=return_df.index,data=factor_return)\n",
    "factor_return.head()"
   ]
  },
  {
   "cell_type": "markdown",
   "metadata": {},
   "source": [
    "# 主成分特徵"
   ]
  },
  {
   "cell_type": "code",
   "execution_count": 7,
   "metadata": {},
   "outputs": [
    {
     "data": {
      "text/html": [
       "<div>\n",
       "<style scoped>\n",
       "    .dataframe tbody tr th:only-of-type {\n",
       "        vertical-align: middle;\n",
       "    }\n",
       "\n",
       "    .dataframe tbody tr th {\n",
       "        vertical-align: top;\n",
       "    }\n",
       "\n",
       "    .dataframe thead th {\n",
       "        text-align: right;\n",
       "    }\n",
       "</style>\n",
       "<table border=\"1\" class=\"dataframe\">\n",
       "  <thead>\n",
       "    <tr style=\"text-align: right;\">\n",
       "      <th></th>\n",
       "      <th>factor 1</th>\n",
       "      <th>factor 2</th>\n",
       "      <th>factor 3</th>\n",
       "      <th>factor 4</th>\n",
       "      <th>factor 5</th>\n",
       "      <th>factor 6</th>\n",
       "    </tr>\n",
       "  </thead>\n",
       "  <tbody>\n",
       "    <tr>\n",
       "      <th>IBM</th>\n",
       "      <td>-0.191290</td>\n",
       "      <td>0.069039</td>\n",
       "      <td>0.205927</td>\n",
       "      <td>0.359538</td>\n",
       "      <td>0.132490</td>\n",
       "      <td>0.513917</td>\n",
       "    </tr>\n",
       "    <tr>\n",
       "      <th>MSFT</th>\n",
       "      <td>-0.288059</td>\n",
       "      <td>0.113215</td>\n",
       "      <td>0.018035</td>\n",
       "      <td>0.225494</td>\n",
       "      <td>-0.021996</td>\n",
       "      <td>0.150267</td>\n",
       "    </tr>\n",
       "    <tr>\n",
       "      <th>FB</th>\n",
       "      <td>-0.296510</td>\n",
       "      <td>0.031146</td>\n",
       "      <td>-0.155346</td>\n",
       "      <td>0.170898</td>\n",
       "      <td>-0.616051</td>\n",
       "      <td>-0.552291</td>\n",
       "    </tr>\n",
       "    <tr>\n",
       "      <th>AMZN</th>\n",
       "      <td>-0.271475</td>\n",
       "      <td>0.135013</td>\n",
       "      <td>-0.263916</td>\n",
       "      <td>0.066142</td>\n",
       "      <td>-0.181530</td>\n",
       "      <td>0.233621</td>\n",
       "    </tr>\n",
       "    <tr>\n",
       "      <th>AAPL</th>\n",
       "      <td>-0.287100</td>\n",
       "      <td>0.126684</td>\n",
       "      <td>0.071257</td>\n",
       "      <td>0.256186</td>\n",
       "      <td>-0.158241</td>\n",
       "      <td>0.228790</td>\n",
       "    </tr>\n",
       "    <tr>\n",
       "      <th>NFLX</th>\n",
       "      <td>-0.318508</td>\n",
       "      <td>0.201341</td>\n",
       "      <td>-0.739209</td>\n",
       "      <td>-0.242227</td>\n",
       "      <td>0.414535</td>\n",
       "      <td>-0.004010</td>\n",
       "    </tr>\n",
       "    <tr>\n",
       "      <th>INTC</th>\n",
       "      <td>-0.303960</td>\n",
       "      <td>0.103752</td>\n",
       "      <td>0.288801</td>\n",
       "      <td>0.370654</td>\n",
       "      <td>0.576196</td>\n",
       "      <td>-0.536533</td>\n",
       "    </tr>\n",
       "    <tr>\n",
       "      <th>GOOG</th>\n",
       "      <td>-0.269223</td>\n",
       "      <td>0.046297</td>\n",
       "      <td>-0.054134</td>\n",
       "      <td>0.180232</td>\n",
       "      <td>-0.180037</td>\n",
       "      <td>0.100905</td>\n",
       "    </tr>\n",
       "    <tr>\n",
       "      <th>NVDA</th>\n",
       "      <td>-0.453871</td>\n",
       "      <td>0.284225</td>\n",
       "      <td>0.475013</td>\n",
       "      <td>-0.692392</td>\n",
       "      <td>-0.060691</td>\n",
       "      <td>0.018022</td>\n",
       "    </tr>\n",
       "    <tr>\n",
       "      <th>TWTR</th>\n",
       "      <td>-0.405053</td>\n",
       "      <td>-0.901631</td>\n",
       "      <td>-0.001719</td>\n",
       "      <td>-0.112802</td>\n",
       "      <td>0.067182</td>\n",
       "      <td>0.054498</td>\n",
       "    </tr>\n",
       "  </tbody>\n",
       "</table>\n",
       "</div>"
      ],
      "text/plain": [
       "      factor 1  factor 2  factor 3  factor 4  factor 5  factor 6\n",
       "IBM  -0.191290  0.069039  0.205927  0.359538  0.132490  0.513917\n",
       "MSFT -0.288059  0.113215  0.018035  0.225494 -0.021996  0.150267\n",
       "FB   -0.296510  0.031146 -0.155346  0.170898 -0.616051 -0.552291\n",
       "AMZN -0.271475  0.135013 -0.263916  0.066142 -0.181530  0.233621\n",
       "AAPL -0.287100  0.126684  0.071257  0.256186 -0.158241  0.228790\n",
       "NFLX -0.318508  0.201341 -0.739209 -0.242227  0.414535 -0.004010\n",
       "INTC -0.303960  0.103752  0.288801  0.370654  0.576196 -0.536533\n",
       "GOOG -0.269223  0.046297 -0.054134  0.180232 -0.180037  0.100905\n",
       "NVDA -0.453871  0.284225  0.475013 -0.692392 -0.060691  0.018022\n",
       "TWTR -0.405053 -0.901631 -0.001719 -0.112802  0.067182  0.054498"
      ]
     },
     "execution_count": 7,
     "metadata": {},
     "output_type": "execute_result"
    }
   ],
   "source": [
    "factor_exposure=pd.DataFrame(index=['factor {}'.format(i+1) for i in range(num_pc)],columns=return_df.columns,data=pca_components).T\n",
    "factor_exposure"
   ]
  },
  {
   "cell_type": "markdown",
   "metadata": {},
   "source": [
    "# 個股二維平面主成分分布圖"
   ]
  },
  {
   "cell_type": "code",
   "execution_count": 8,
   "metadata": {},
   "outputs": [
    {
     "data": {
      "image/png": "[encoded data removed]",
      "text/plain": [
       "<Figure size 1440x720 with 1 Axes>"
      ]
     },
     "metadata": {
      "needs_background": "light"
     },
     "output_type": "display_data"
    }
   ],
   "source": [
    "labels=factor_exposure.index\n",
    "data=factor_exposure.values\n",
    "\n",
    "fig,ax=plt.subplots(1,figsize=(20,10))\n",
    "ax.scatter(data[:,0],data[:,1],marker='o',s=50,c='m',cmap=plt.cm.Spectral)\n",
    "ax.set_title('Scatter Plot of Coefficients of PC1 and PC2',fontsize=20)\n",
    "ax.set_xlabel('factor exposure of PC1',fontsize=15)\n",
    "ax.set_ylabel('factor exposure of PC2',fontsize=15)\n",
    "\n",
    "for label,x,y in zip(labels,data[:,0],data[:,1]):\n",
    "    ax.annotate(label,xy=(x,y),xytext=(-20,20),textcoords='offset points',ha='right',va='bottom',\n",
    "                bbox=dict(boxstyle='round,pad=0.5',fc='yellow',alpha=0.5),\n",
    "                arrowprops=dict(arrowstyle='->',connectionstyle='arc3,rad=0'))"
   ]
  },
  {
   "cell_type": "code",
   "execution_count": null,
   "metadata": {},
   "outputs": [],
   "source": []
  }
 ],
 "metadata": {
  "kernelspec": {
   "display_name": "Python 3",
   "language": "python",
   "name": "python3"
  },
  "language_info": {
   "codemirror_mode": {
    "name": "ipython",
    "version": 3
   },
   "file_extension": ".py",
   "mimetype": "text/x-python",
   "name": "python",
   "nbconvert_exporter": "python",
   "pygments_lexer": "ipython3",
   "version": "3.7.3"
  }
 },
 "nbformat": 4,
 "nbformat_minor": 2
}
